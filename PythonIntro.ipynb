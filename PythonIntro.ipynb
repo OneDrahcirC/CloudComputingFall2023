{
 "cells": [
  {
   "cell_type": "code",
   "execution_count": 6,
   "id": "b8118f78-de68-4d4f-beb0-b842337f7c70",
   "metadata": {},
   "outputs": [
    {
     "name": "stdout",
     "output_type": "stream",
     "text": [
      "Hello World!\n"
     ]
    }
   ],
   "source": [
    "print(\"Hello World!\")"
   ]
  },
  {
   "cell_type": "code",
   "execution_count": 5,
   "id": "9e0123eb-cdd3-467a-bced-e90dcc5c4b82",
   "metadata": {},
   "outputs": [
    {
     "name": "stdout",
     "output_type": "stream",
     "text": [
      "78.53975\n"
     ]
    }
   ],
   "source": [
    "# This is an example of mathmatical calculations\n",
    "radius = 5.0\n",
    "pi = 3.14159\n",
    "area = pi * radius * radius\n",
    "print(area)"
   ]
  },
  {
   "cell_type": "markdown",
   "id": "0841a1d1-e487-4d91-80d2-0a38d66a20e9",
   "metadata": {},
   "source": [
    "[Here](https://gist.github.com/discdiver/9e00618756d120a8c9fa344ac1c375ac) is a list of JupyterLab keyboard shortcuts"
   ]
  },
  {
   "cell_type": "code",
   "execution_count": 7,
   "id": "c052ce36-4970-4dfd-806b-93d1d8217882",
   "metadata": {},
   "outputs": [
    {
     "name": "stdout",
     "output_type": "stream",
     "text": [
      "Collecting google-cloud-bigquery==2.34.4\n",
      "  Downloading google_cloud_bigquery-2.34.4-py2.py3-none-any.whl (206 kB)\n",
      "\u001b[2K     \u001b[90m━━━━━━━━━━━━━━━━━━━━━━━━━━━━━━━━━━━━━━━\u001b[0m \u001b[32m206.6/206.6 kB\u001b[0m \u001b[31m3.4 MB/s\u001b[0m eta \u001b[36m0:00:00\u001b[0m00:01\u001b[0m\n",
      "\u001b[?25hRequirement already satisfied: grpcio<2.0dev,>=1.38.1 in /opt/conda/lib/python3.10/site-packages (from google-cloud-bigquery==2.34.4) (1.58.0)\n",
      "Requirement already satisfied: google-api-core[grpc]!=2.0.*,!=2.1.*,!=2.2.*,!=2.3.0,<3.0.0dev,>=1.31.5 in /opt/conda/lib/python3.10/site-packages (from google-cloud-bigquery==2.34.4) (1.34.0)\n",
      "Requirement already satisfied: proto-plus<2.0.0dev,>=1.15.0 in /opt/conda/lib/python3.10/site-packages (from google-cloud-bigquery==2.34.4) (1.22.3)\n",
      "Requirement already satisfied: google-cloud-core<3.0.0dev,>=1.4.1 in /opt/conda/lib/python3.10/site-packages (from google-cloud-bigquery==2.34.4) (2.3.3)\n",
      "Requirement already satisfied: google-resumable-media<3.0dev,>=0.6.0 in /opt/conda/lib/python3.10/site-packages (from google-cloud-bigquery==2.34.4) (2.6.0)\n",
      "Collecting packaging<22.0dev,>=14.3 (from google-cloud-bigquery==2.34.4)\n",
      "  Downloading packaging-21.3-py3-none-any.whl (40 kB)\n",
      "\u001b[2K     \u001b[90m━━━━━━━━━━━━━━━━━━━━━━━━━━━━━━━━━━━━━━━━\u001b[0m \u001b[32m40.8/40.8 kB\u001b[0m \u001b[31m6.3 MB/s\u001b[0m eta \u001b[36m0:00:00\u001b[0m\n",
      "\u001b[?25hRequirement already satisfied: protobuf<4.0.0dev,>=3.12.0 in /opt/conda/lib/python3.10/site-packages (from google-cloud-bigquery==2.34.4) (3.20.3)\n",
      "Requirement already satisfied: python-dateutil<3.0dev,>=2.7.2 in /opt/conda/lib/python3.10/site-packages (from google-cloud-bigquery==2.34.4) (2.8.2)\n",
      "Requirement already satisfied: requests<3.0.0dev,>=2.18.0 in /opt/conda/lib/python3.10/site-packages (from google-cloud-bigquery==2.34.4) (2.31.0)\n",
      "Requirement already satisfied: googleapis-common-protos<2.0dev,>=1.56.2 in /opt/conda/lib/python3.10/site-packages (from google-api-core[grpc]!=2.0.*,!=2.1.*,!=2.2.*,!=2.3.0,<3.0.0dev,>=1.31.5->google-cloud-bigquery==2.34.4) (1.60.0)\n",
      "Requirement already satisfied: google-auth<3.0dev,>=1.25.0 in /opt/conda/lib/python3.10/site-packages (from google-api-core[grpc]!=2.0.*,!=2.1.*,!=2.2.*,!=2.3.0,<3.0.0dev,>=1.31.5->google-cloud-bigquery==2.34.4) (2.23.0)\n",
      "Requirement already satisfied: grpcio-status<2.0dev,>=1.33.2 in /opt/conda/lib/python3.10/site-packages (from google-api-core[grpc]!=2.0.*,!=2.1.*,!=2.2.*,!=2.3.0,<3.0.0dev,>=1.31.5->google-cloud-bigquery==2.34.4) (1.48.2)\n",
      "Requirement already satisfied: google-crc32c<2.0dev,>=1.0 in /opt/conda/lib/python3.10/site-packages (from google-resumable-media<3.0dev,>=0.6.0->google-cloud-bigquery==2.34.4) (1.5.0)\n",
      "Requirement already satisfied: pyparsing!=3.0.5,>=2.0.2 in /opt/conda/lib/python3.10/site-packages (from packaging<22.0dev,>=14.3->google-cloud-bigquery==2.34.4) (3.1.1)\n",
      "Requirement already satisfied: six>=1.5 in /opt/conda/lib/python3.10/site-packages (from python-dateutil<3.0dev,>=2.7.2->google-cloud-bigquery==2.34.4) (1.16.0)\n",
      "Requirement already satisfied: charset-normalizer<4,>=2 in /opt/conda/lib/python3.10/site-packages (from requests<3.0.0dev,>=2.18.0->google-cloud-bigquery==2.34.4) (3.2.0)\n",
      "Requirement already satisfied: idna<4,>=2.5 in /opt/conda/lib/python3.10/site-packages (from requests<3.0.0dev,>=2.18.0->google-cloud-bigquery==2.34.4) (3.4)\n",
      "Requirement already satisfied: urllib3<3,>=1.21.1 in /opt/conda/lib/python3.10/site-packages (from requests<3.0.0dev,>=2.18.0->google-cloud-bigquery==2.34.4) (1.26.16)\n",
      "Requirement already satisfied: certifi>=2017.4.17 in /opt/conda/lib/python3.10/site-packages (from requests<3.0.0dev,>=2.18.0->google-cloud-bigquery==2.34.4) (2023.7.22)\n",
      "Requirement already satisfied: cachetools<6.0,>=2.0.0 in /opt/conda/lib/python3.10/site-packages (from google-auth<3.0dev,>=1.25.0->google-api-core[grpc]!=2.0.*,!=2.1.*,!=2.2.*,!=2.3.0,<3.0.0dev,>=1.31.5->google-cloud-bigquery==2.34.4) (5.3.1)\n",
      "Requirement already satisfied: pyasn1-modules>=0.2.1 in /opt/conda/lib/python3.10/site-packages (from google-auth<3.0dev,>=1.25.0->google-api-core[grpc]!=2.0.*,!=2.1.*,!=2.2.*,!=2.3.0,<3.0.0dev,>=1.31.5->google-cloud-bigquery==2.34.4) (0.3.0)\n",
      "Requirement already satisfied: rsa<5,>=3.1.4 in /opt/conda/lib/python3.10/site-packages (from google-auth<3.0dev,>=1.25.0->google-api-core[grpc]!=2.0.*,!=2.1.*,!=2.2.*,!=2.3.0,<3.0.0dev,>=1.31.5->google-cloud-bigquery==2.34.4) (4.9)\n",
      "Requirement already satisfied: pyasn1<0.6.0,>=0.4.6 in /opt/conda/lib/python3.10/site-packages (from pyasn1-modules>=0.2.1->google-auth<3.0dev,>=1.25.0->google-api-core[grpc]!=2.0.*,!=2.1.*,!=2.2.*,!=2.3.0,<3.0.0dev,>=1.31.5->google-cloud-bigquery==2.34.4) (0.5.0)\n",
      "Installing collected packages: packaging, google-cloud-bigquery\n",
      "  Attempting uninstall: packaging\n",
      "    Found existing installation: packaging 23.1\n",
      "    Uninstalling packaging-23.1:\n",
      "      Successfully uninstalled packaging-23.1\n",
      "  Attempting uninstall: google-cloud-bigquery\n",
      "    Found existing installation: google-cloud-bigquery 3.11.4\n",
      "    Uninstalling google-cloud-bigquery-3.11.4:\n",
      "      Successfully uninstalled google-cloud-bigquery-3.11.4\n",
      "Successfully installed google-cloud-bigquery-2.34.4 packaging-21.3\n"
     ]
    }
   ],
   "source": [
    "# Console commands can be executive with an \"!\"\n",
    "!pip install google-cloud-bigquery==2.34.4"
   ]
  },
  {
   "cell_type": "code",
   "execution_count": 2,
   "id": "298396f5-7365-4f14-a0c2-c6402d2c01e3",
   "metadata": {},
   "outputs": [
    {
     "name": "stderr",
     "output_type": "stream",
     "text": [
      "Query complete after 0.00s: 100%|██████████| 1/1 [00:00<00:00, 955.20query/s] \n",
      "Downloading: 100%|██████████| 641/641 [00:00<00:00, 4230.54rows/s]\n"
     ]
    }
   ],
   "source": [
    "%%bigquery df --use_rest_api\n",
    "\n",
    "SELECT\n",
    "  depdelay as departure_delay,\n",
    "  COUNT(1) AS num_flights,\n",
    "  APPROX_QUANTILES(arrdelay, 10) AS arrival_delay_deciles\n",
    "FROM\n",
    "  `cloud-training-demos.airline_ontime_data.flights`\n",
    "WHERE\n",
    " depdelay is not null\n",
    "GROUP BY\n",
    "  depdelay\n",
    "HAVING\n",
    "  num_flights > 100\n",
    "ORDER BY\n",
    "  depdelay ASC"
   ]
  },
  {
   "cell_type": "code",
   "execution_count": 3,
   "id": "0dc6c210-71e9-4a2a-8630-1aa57d9c13aa",
   "metadata": {},
   "outputs": [
    {
     "data": {
      "text/html": [
       "<div>\n",
       "<style scoped>\n",
       "    .dataframe tbody tr th:only-of-type {\n",
       "        vertical-align: middle;\n",
       "    }\n",
       "\n",
       "    .dataframe tbody tr th {\n",
       "        vertical-align: top;\n",
       "    }\n",
       "\n",
       "    .dataframe thead th {\n",
       "        text-align: right;\n",
       "    }\n",
       "</style>\n",
       "<table border=\"1\" class=\"dataframe\">\n",
       "  <thead>\n",
       "    <tr style=\"text-align: right;\">\n",
       "      <th></th>\n",
       "      <th>departure_delay</th>\n",
       "      <th>num_flights</th>\n",
       "      <th>arrival_delay_deciles</th>\n",
       "    </tr>\n",
       "  </thead>\n",
       "  <tbody>\n",
       "    <tr>\n",
       "      <th>0</th>\n",
       "      <td>-60.0</td>\n",
       "      <td>281</td>\n",
       "      <td>[-137.0, -65.0, -60.0, -55.0, -36.0, -16.0, -8...</td>\n",
       "    </tr>\n",
       "    <tr>\n",
       "      <th>1</th>\n",
       "      <td>-45.0</td>\n",
       "      <td>262</td>\n",
       "      <td>[-71.0, -55.0, -50.0, -48.0, -45.0, -43.0, -39...</td>\n",
       "    </tr>\n",
       "    <tr>\n",
       "      <th>2</th>\n",
       "      <td>-44.0</td>\n",
       "      <td>123</td>\n",
       "      <td>[-62.0, -53.0, -50.0, -48.0, -46.0, -42.0, -40...</td>\n",
       "    </tr>\n",
       "    <tr>\n",
       "      <th>3</th>\n",
       "      <td>-43.0</td>\n",
       "      <td>161</td>\n",
       "      <td>[-71.0, -55.0, -51.0, -48.0, -45.0, -43.0, -38...</td>\n",
       "    </tr>\n",
       "    <tr>\n",
       "      <th>4</th>\n",
       "      <td>-42.0</td>\n",
       "      <td>193</td>\n",
       "      <td>[-62.0, -51.0, -48.0, -46.0, -43.0, -41.0, -38...</td>\n",
       "    </tr>\n",
       "    <tr>\n",
       "      <th>...</th>\n",
       "      <td>...</td>\n",
       "      <td>...</td>\n",
       "      <td>...</td>\n",
       "    </tr>\n",
       "    <tr>\n",
       "      <th>636</th>\n",
       "      <td>1434.0</td>\n",
       "      <td>346</td>\n",
       "      <td>[-28.0, -16.0, -13.0, -11.0, -8.0, -6.0, -4.0,...</td>\n",
       "    </tr>\n",
       "    <tr>\n",
       "      <th>637</th>\n",
       "      <td>1435.0</td>\n",
       "      <td>695</td>\n",
       "      <td>[-27.0, -16.0, -12.0, -9.0, -7.0, -5.0, -3.0, ...</td>\n",
       "    </tr>\n",
       "    <tr>\n",
       "      <th>638</th>\n",
       "      <td>1437.0</td>\n",
       "      <td>111</td>\n",
       "      <td>[-27.0, -12.0, -9.0, -6.0, -3.0, -2.0, 0.0, 2....</td>\n",
       "    </tr>\n",
       "    <tr>\n",
       "      <th>639</th>\n",
       "      <td>1438.0</td>\n",
       "      <td>165</td>\n",
       "      <td>[-29.0, -12.0, -9.0, -7.0, -4.0, -2.0, 0.0, 2....</td>\n",
       "    </tr>\n",
       "    <tr>\n",
       "      <th>640</th>\n",
       "      <td>1439.0</td>\n",
       "      <td>151</td>\n",
       "      <td>[-26.0, -12.0, -8.0, -5.0, -3.0, -1.0, 1.0, 5....</td>\n",
       "    </tr>\n",
       "  </tbody>\n",
       "</table>\n",
       "<p>641 rows × 3 columns</p>\n",
       "</div>"
      ],
      "text/plain": [
       "     departure_delay  num_flights  \\\n",
       "0              -60.0          281   \n",
       "1              -45.0          262   \n",
       "2              -44.0          123   \n",
       "3              -43.0          161   \n",
       "4              -42.0          193   \n",
       "..               ...          ...   \n",
       "636           1434.0          346   \n",
       "637           1435.0          695   \n",
       "638           1437.0          111   \n",
       "639           1438.0          165   \n",
       "640           1439.0          151   \n",
       "\n",
       "                                 arrival_delay_deciles  \n",
       "0    [-137.0, -65.0, -60.0, -55.0, -36.0, -16.0, -8...  \n",
       "1    [-71.0, -55.0, -50.0, -48.0, -45.0, -43.0, -39...  \n",
       "2    [-62.0, -53.0, -50.0, -48.0, -46.0, -42.0, -40...  \n",
       "3    [-71.0, -55.0, -51.0, -48.0, -45.0, -43.0, -38...  \n",
       "4    [-62.0, -51.0, -48.0, -46.0, -43.0, -41.0, -38...  \n",
       "..                                                 ...  \n",
       "636  [-28.0, -16.0, -13.0, -11.0, -8.0, -6.0, -4.0,...  \n",
       "637  [-27.0, -16.0, -12.0, -9.0, -7.0, -5.0, -3.0, ...  \n",
       "638  [-27.0, -12.0, -9.0, -6.0, -3.0, -2.0, 0.0, 2....  \n",
       "639  [-29.0, -12.0, -9.0, -7.0, -4.0, -2.0, 0.0, 2....  \n",
       "640  [-26.0, -12.0, -8.0, -5.0, -3.0, -1.0, 1.0, 5....  \n",
       "\n",
       "[641 rows x 3 columns]"
      ]
     },
     "execution_count": 3,
     "metadata": {},
     "output_type": "execute_result"
    }
   ],
   "source": [
    "df"
   ]
  },
  {
   "cell_type": "code",
   "execution_count": 4,
   "id": "651e4299-343f-45af-8ef2-cdc622c54c30",
   "metadata": {},
   "outputs": [
    {
     "data": {
      "text/html": [
       "<div>\n",
       "<style scoped>\n",
       "    .dataframe tbody tr th:only-of-type {\n",
       "        vertical-align: middle;\n",
       "    }\n",
       "\n",
       "    .dataframe tbody tr th {\n",
       "        vertical-align: top;\n",
       "    }\n",
       "\n",
       "    .dataframe thead th {\n",
       "        text-align: right;\n",
       "    }\n",
       "</style>\n",
       "<table border=\"1\" class=\"dataframe\">\n",
       "  <thead>\n",
       "    <tr style=\"text-align: right;\">\n",
       "      <th></th>\n",
       "      <th>0%</th>\n",
       "      <th>10%</th>\n",
       "      <th>20%</th>\n",
       "      <th>30%</th>\n",
       "      <th>40%</th>\n",
       "      <th>50%</th>\n",
       "      <th>60%</th>\n",
       "      <th>70%</th>\n",
       "      <th>80%</th>\n",
       "      <th>90%</th>\n",
       "      <th>100%</th>\n",
       "    </tr>\n",
       "  </thead>\n",
       "  <tbody>\n",
       "    <tr>\n",
       "      <th>0</th>\n",
       "      <td>-137.0</td>\n",
       "      <td>-65.0</td>\n",
       "      <td>-60.0</td>\n",
       "      <td>-55.0</td>\n",
       "      <td>-36.0</td>\n",
       "      <td>-16.0</td>\n",
       "      <td>-8.0</td>\n",
       "      <td>-4.0</td>\n",
       "      <td>1.0</td>\n",
       "      <td>8.0</td>\n",
       "      <td>54.0</td>\n",
       "    </tr>\n",
       "    <tr>\n",
       "      <th>1</th>\n",
       "      <td>-71.0</td>\n",
       "      <td>-55.0</td>\n",
       "      <td>-50.0</td>\n",
       "      <td>-48.0</td>\n",
       "      <td>-45.0</td>\n",
       "      <td>-43.0</td>\n",
       "      <td>-39.0</td>\n",
       "      <td>-32.0</td>\n",
       "      <td>-14.0</td>\n",
       "      <td>2.0</td>\n",
       "      <td>45.0</td>\n",
       "    </tr>\n",
       "    <tr>\n",
       "      <th>2</th>\n",
       "      <td>-62.0</td>\n",
       "      <td>-53.0</td>\n",
       "      <td>-50.0</td>\n",
       "      <td>-48.0</td>\n",
       "      <td>-46.0</td>\n",
       "      <td>-42.0</td>\n",
       "      <td>-40.0</td>\n",
       "      <td>-33.0</td>\n",
       "      <td>-22.0</td>\n",
       "      <td>-3.0</td>\n",
       "      <td>76.0</td>\n",
       "    </tr>\n",
       "    <tr>\n",
       "      <th>3</th>\n",
       "      <td>-71.0</td>\n",
       "      <td>-55.0</td>\n",
       "      <td>-51.0</td>\n",
       "      <td>-48.0</td>\n",
       "      <td>-45.0</td>\n",
       "      <td>-43.0</td>\n",
       "      <td>-38.0</td>\n",
       "      <td>-33.0</td>\n",
       "      <td>-18.0</td>\n",
       "      <td>-5.0</td>\n",
       "      <td>48.0</td>\n",
       "    </tr>\n",
       "    <tr>\n",
       "      <th>4</th>\n",
       "      <td>-62.0</td>\n",
       "      <td>-51.0</td>\n",
       "      <td>-48.0</td>\n",
       "      <td>-46.0</td>\n",
       "      <td>-43.0</td>\n",
       "      <td>-41.0</td>\n",
       "      <td>-38.0</td>\n",
       "      <td>-33.0</td>\n",
       "      <td>-20.0</td>\n",
       "      <td>-3.0</td>\n",
       "      <td>32.0</td>\n",
       "    </tr>\n",
       "  </tbody>\n",
       "</table>\n",
       "</div>"
      ],
      "text/plain": [
       "      0%   10%   20%   30%   40%   50%   60%   70%   80%  90%  100%\n",
       "0 -137.0 -65.0 -60.0 -55.0 -36.0 -16.0  -8.0  -4.0   1.0  8.0  54.0\n",
       "1  -71.0 -55.0 -50.0 -48.0 -45.0 -43.0 -39.0 -32.0 -14.0  2.0  45.0\n",
       "2  -62.0 -53.0 -50.0 -48.0 -46.0 -42.0 -40.0 -33.0 -22.0 -3.0  76.0\n",
       "3  -71.0 -55.0 -51.0 -48.0 -45.0 -43.0 -38.0 -33.0 -18.0 -5.0  48.0\n",
       "4  -62.0 -51.0 -48.0 -46.0 -43.0 -41.0 -38.0 -33.0 -20.0 -3.0  32.0"
      ]
     },
     "execution_count": 4,
     "metadata": {},
     "output_type": "execute_result"
    }
   ],
   "source": [
    "import pandas as pd\n",
    "\n",
    "percentiles = df['arrival_delay_deciles'].apply(pd.Series)\n",
    "percentiles.rename(columns = lambda x : '{0}%'.format(x*10), inplace=True)\n",
    "percentiles.head()"
   ]
  },
  {
   "cell_type": "code",
   "execution_count": 5,
   "id": "3898c5a7-588d-4666-a278-3c919dc336c1",
   "metadata": {},
   "outputs": [
    {
     "data": {
      "text/html": [
       "<div>\n",
       "<style scoped>\n",
       "    .dataframe tbody tr th:only-of-type {\n",
       "        vertical-align: middle;\n",
       "    }\n",
       "\n",
       "    .dataframe tbody tr th {\n",
       "        vertical-align: top;\n",
       "    }\n",
       "\n",
       "    .dataframe thead th {\n",
       "        text-align: right;\n",
       "    }\n",
       "</style>\n",
       "<table border=\"1\" class=\"dataframe\">\n",
       "  <thead>\n",
       "    <tr style=\"text-align: right;\">\n",
       "      <th></th>\n",
       "      <th>departure_delay</th>\n",
       "      <th>0%</th>\n",
       "      <th>10%</th>\n",
       "      <th>20%</th>\n",
       "      <th>30%</th>\n",
       "      <th>40%</th>\n",
       "      <th>50%</th>\n",
       "      <th>60%</th>\n",
       "      <th>70%</th>\n",
       "      <th>80%</th>\n",
       "      <th>90%</th>\n",
       "      <th>100%</th>\n",
       "    </tr>\n",
       "  </thead>\n",
       "  <tbody>\n",
       "    <tr>\n",
       "      <th>0</th>\n",
       "      <td>-60.0</td>\n",
       "      <td>-137.0</td>\n",
       "      <td>-65.0</td>\n",
       "      <td>-60.0</td>\n",
       "      <td>-55.0</td>\n",
       "      <td>-36.0</td>\n",
       "      <td>-16.0</td>\n",
       "      <td>-8.0</td>\n",
       "      <td>-4.0</td>\n",
       "      <td>1.0</td>\n",
       "      <td>8.0</td>\n",
       "      <td>54.0</td>\n",
       "    </tr>\n",
       "    <tr>\n",
       "      <th>1</th>\n",
       "      <td>-45.0</td>\n",
       "      <td>-71.0</td>\n",
       "      <td>-55.0</td>\n",
       "      <td>-50.0</td>\n",
       "      <td>-48.0</td>\n",
       "      <td>-45.0</td>\n",
       "      <td>-43.0</td>\n",
       "      <td>-39.0</td>\n",
       "      <td>-32.0</td>\n",
       "      <td>-14.0</td>\n",
       "      <td>2.0</td>\n",
       "      <td>45.0</td>\n",
       "    </tr>\n",
       "    <tr>\n",
       "      <th>2</th>\n",
       "      <td>-44.0</td>\n",
       "      <td>-62.0</td>\n",
       "      <td>-53.0</td>\n",
       "      <td>-50.0</td>\n",
       "      <td>-48.0</td>\n",
       "      <td>-46.0</td>\n",
       "      <td>-42.0</td>\n",
       "      <td>-40.0</td>\n",
       "      <td>-33.0</td>\n",
       "      <td>-22.0</td>\n",
       "      <td>-3.0</td>\n",
       "      <td>76.0</td>\n",
       "    </tr>\n",
       "    <tr>\n",
       "      <th>3</th>\n",
       "      <td>-43.0</td>\n",
       "      <td>-71.0</td>\n",
       "      <td>-55.0</td>\n",
       "      <td>-51.0</td>\n",
       "      <td>-48.0</td>\n",
       "      <td>-45.0</td>\n",
       "      <td>-43.0</td>\n",
       "      <td>-38.0</td>\n",
       "      <td>-33.0</td>\n",
       "      <td>-18.0</td>\n",
       "      <td>-5.0</td>\n",
       "      <td>48.0</td>\n",
       "    </tr>\n",
       "    <tr>\n",
       "      <th>4</th>\n",
       "      <td>-42.0</td>\n",
       "      <td>-62.0</td>\n",
       "      <td>-51.0</td>\n",
       "      <td>-48.0</td>\n",
       "      <td>-46.0</td>\n",
       "      <td>-43.0</td>\n",
       "      <td>-41.0</td>\n",
       "      <td>-38.0</td>\n",
       "      <td>-33.0</td>\n",
       "      <td>-20.0</td>\n",
       "      <td>-3.0</td>\n",
       "      <td>32.0</td>\n",
       "    </tr>\n",
       "  </tbody>\n",
       "</table>\n",
       "</div>"
      ],
      "text/plain": [
       "   departure_delay     0%   10%   20%   30%   40%   50%   60%   70%   80%  \\\n",
       "0            -60.0 -137.0 -65.0 -60.0 -55.0 -36.0 -16.0  -8.0  -4.0   1.0   \n",
       "1            -45.0  -71.0 -55.0 -50.0 -48.0 -45.0 -43.0 -39.0 -32.0 -14.0   \n",
       "2            -44.0  -62.0 -53.0 -50.0 -48.0 -46.0 -42.0 -40.0 -33.0 -22.0   \n",
       "3            -43.0  -71.0 -55.0 -51.0 -48.0 -45.0 -43.0 -38.0 -33.0 -18.0   \n",
       "4            -42.0  -62.0 -51.0 -48.0 -46.0 -43.0 -41.0 -38.0 -33.0 -20.0   \n",
       "\n",
       "   90%  100%  \n",
       "0  8.0  54.0  \n",
       "1  2.0  45.0  \n",
       "2 -3.0  76.0  \n",
       "3 -5.0  48.0  \n",
       "4 -3.0  32.0  "
      ]
     },
     "execution_count": 5,
     "metadata": {},
     "output_type": "execute_result"
    }
   ],
   "source": [
    "df = pd.concat([df['departure_delay'], percentiles], axis=1)\n",
    "df.head()"
   ]
  },
  {
   "cell_type": "code",
   "execution_count": 6,
   "id": "df9c53a6-7961-4660-9148-cbaa3e960d17",
   "metadata": {},
   "outputs": [
    {
     "data": {
      "image/png": "[encoded data removed]",
      "text/plain": [
       "<Figure size 640x480 with 1 Axes>"
      ]
     },
     "metadata": {},
     "output_type": "display_data"
    }
   ],
   "source": [
    "df.drop(labels=['0%', '100%'], axis=1, inplace=True)\n",
    "df.plot(x='departure_delay', xlim=(-30,50), ylim=(-50,50));"
   ]
  },
  {
   "cell_type": "markdown",
   "id": "298530d2-526e-4b24-a76e-159d896a281b",
   "metadata": {
    "tags": []
   },
   "source": [
    "# Introduction to Python\n",
    "\n",
    "Next, let's have a thorough review of basic Python syntax."
   ]
  },
  {
   "cell_type": "code",
   "execution_count": 7,
   "id": "1ca50c99-1dae-4e44-be1b-e958f1f7ed56",
   "metadata": {},
   "outputs": [],
   "source": [
    "# Variables\n",
    "a = 5"
   ]
  },
  {
   "cell_type": "code",
   "execution_count": 8,
   "id": "896a7cee-8bb6-4b14-b43e-048bfc6d1d96",
   "metadata": {},
   "outputs": [
    {
     "data": {
      "text/plain": [
       "int"
      ]
     },
     "execution_count": 8,
     "metadata": {},
     "output_type": "execute_result"
    }
   ],
   "source": [
    "type(a)"
   ]
  },
  {
   "cell_type": "code",
   "execution_count": 9,
   "id": "e2fb8734-e43e-4ca3-86b5-f79cea2103a6",
   "metadata": {},
   "outputs": [
    {
     "name": "stdout",
     "output_type": "stream",
     "text": [
      "<class 'float'> <class 'bool'> <class 'str'>\n"
     ]
    }
   ],
   "source": [
    "b = 4.5 # float\n",
    "c = True # boolean \n",
    "d = \"abcde\" # str\n",
    "print(type(b), type(c), type(d))"
   ]
  },
  {
   "cell_type": "code",
   "execution_count": 13,
   "id": "f97d0a77-4720-4d6f-8411-42c6e3525659",
   "metadata": {},
   "outputs": [
    {
     "name": "stdin",
     "output_type": "stream",
     "text": [
      "Your grade: 89\n"
     ]
    },
    {
     "name": "stdout",
     "output_type": "stream",
     "text": [
      "B\n"
     ]
    }
   ],
   "source": [
    "# Branches\n",
    "number_grade = input(\"Your grade:\")\n",
    "number_grade = int(number_grade) # Convert the string to an int\n",
    "if number_grade > 90:\n",
    "    letter_grade = \"A\"\n",
    "elif number_grade > 80:\n",
    "    letter_grade = \"B\"\n",
    "elif number_grade > 70:\n",
    "    letter_grade = \"C\"\n",
    "elif number_grade > 60:\n",
    "    letter_grade = \"D\"\n",
    "else: \n",
    "    letter_grade = \"F\"\n",
    "print(letter_grade)"
   ]
  },
  {
   "cell_type": "code",
   "execution_count": 14,
   "id": "0225e438-df34-463b-8b24-a35fd1947366",
   "metadata": {},
   "outputs": [
    {
     "name": "stdout",
     "output_type": "stream",
     "text": [
      "A\n",
      "B\n",
      "C\n",
      "D\n",
      "E\n"
     ]
    }
   ],
   "source": [
    "# Loops\n",
    "for letter in [\"A\", \"B\", \"C\", \"D\", \"E\"]:\n",
    "    print(letter)"
   ]
  },
  {
   "cell_type": "code",
   "execution_count": null,
   "id": "f6aca0f4-74dc-4654-9753-1453abcfbcb1",
   "metadata": {},
   "outputs": [],
   "source": []
  }
 ],
 "metadata": {
  "environment": {
   "kernel": "python3",
   "name": "common-cpu.m112",
   "type": "gcloud",
   "uri": "gcr.io/deeplearning-platform-release/base-cpu:m112"
  },
  "kernelspec": {
   "display_name": "Python 3",
   "language": "python",
   "name": "python3"
  },
  "language_info": {
   "codemirror_mode": {
    "name": "ipython",
    "version": 3
   },
   "file_extension": ".py",
   "mimetype": "text/x-python",
   "name": "python",
   "nbconvert_exporter": "python",
   "pygments_lexer": "ipython3",
   "version": "3.10.12"
  }
 },
 "nbformat": 4,
 "nbformat_minor": 5
}
