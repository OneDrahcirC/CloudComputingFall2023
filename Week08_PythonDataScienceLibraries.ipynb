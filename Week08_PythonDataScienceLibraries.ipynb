{
  "nbformat": 4,
  "nbformat_minor": 0,
  "metadata": {
    "colab": {
      "provenance": []
    },
    "kernelspec": {
      "name": "python3",
      "display_name": "Python 3"
    }
  },
  "cells": [
    {
      "cell_type": "markdown",
      "metadata": {
        "id": "YnPm1ZWIkL3A"
      },
      "source": [
        "# Python and Its Data Scienced Libraries\n",
        "- Additional Resources:\n",
        "    - [Python for Everyone](https://www.py4e.com/lessons)\n",
        "    - [Python for Data Analysis, 2nd Edition](https://wesmckinney.com/book/)\n",
        "\n"
      ]
    },
    {
      "cell_type": "markdown",
      "metadata": {
        "id": "xbzonDN_mve4"
      },
      "source": [
        "## Python Tutorial"
      ]
    },
    {
      "cell_type": "code",
      "source": [
        "# Loops\n",
        "for letter in ['A', 'B', 'C', 'D', 'E', 'F']:\n",
        "    print(letter) # all statements in the for loop should be indented\n",
        "print(letter) # THThisis line will only be executed when the loop ends"
      ],
      "metadata": {
        "id": "vFSxZUm-4z5p"
      },
      "execution_count": null,
      "outputs": []
    },
    {
      "cell_type": "code",
      "source": [
        "# The range() function can produce a sequence of integers\n",
        "for i in range(5, 12): # it contains integers from 0 (inclusive) to 10 (exclusive)\n",
        "    print(i)"
      ],
      "metadata": {
        "id": "x5AkIYLw46MC"
      },
      "execution_count": null,
      "outputs": []
    },
    {
      "cell_type": "code",
      "source": [
        "# Functions\n",
        "def get_sum(list1):\n",
        "    \"\"\"\n",
        "    Returns the sum of list1.\n",
        "    \"\"\"\n",
        "    sum = 0\n",
        "    for val in list1:\n",
        "        sum += val\n",
        "    return sum"
      ],
      "metadata": {
        "id": "69f7qPgk46yW"
      },
      "execution_count": null,
      "outputs": []
    },
    {
      "cell_type": "code",
      "source": [
        "# Function parameters can have a default value.\n",
        "def add(x, y=30, z=50):\n",
        "\n",
        "    return x + y + z"
      ],
      "metadata": {
        "id": "e_Uxc0Wk47K2"
      },
      "execution_count": null,
      "outputs": []
    },
    {
      "cell_type": "code",
      "source": [
        "# Classes\n",
        "class Person():\n",
        "\n",
        "    def __init__(self, name, age): # This is the name of class constructor. There are two underscores before\n",
        "                                    # and after the word \"init\"\n",
        "        self.name = name\n",
        "        self.age = age\n",
        "\n",
        "    def print_info(self):\n",
        "        print(self.name + \" | \" + str(self.age))"
      ],
      "metadata": {
        "id": "dK3E89r447Ng"
      },
      "execution_count": null,
      "outputs": []
    },
    {
      "cell_type": "code",
      "source": [
        "me = Person(\"Liang\", 34)\n",
        "me.print_info()"
      ],
      "metadata": {
        "id": "9OqgD8l15LNH"
      },
      "execution_count": null,
      "outputs": []
    },
    {
      "cell_type": "code",
      "source": [
        "# list\n",
        "py_list = [\"Alex\", 29, 130.5, True, False, [1, 3, 5]]\n",
        "print(py_list[0])\n",
        "print(py_list[5][0])\n",
        "print(py_list[-1])\n",
        "print(py_list[-2])\n",
        "print(py_list[0:3]) # this will extract elements with index 0, 1, 2\n",
        "print(py_list[:3])\n",
        "print(py_list[5:])\n",
        "print(py_list[:])"
      ],
      "metadata": {
        "id": "Eylrah_9W3LL"
      },
      "execution_count": null,
      "outputs": []
    },
    {
      "cell_type": "code",
      "metadata": {
        "id": "QjJoRncGksVM"
      },
      "source": [
        "# dictionary\n",
        "py_dict = {}\n",
        "py_dict['Alex'] = \"A\"\n",
        "py_dict['Bob'] = 'B'\n",
        "print(py_dict)"
      ],
      "execution_count": null,
      "outputs": []
    },
    {
      "cell_type": "markdown",
      "metadata": {
        "id": "HPaof7dupAaZ"
      },
      "source": [
        "## Pandas Data Frames\n",
        "\n",
        "[Pandas](https://pandas.pydata.org/) is a major tool for data scientists on Python. It contains data structures and data manipulation tools designed to make data cleaning and analysis fast and easy.\n",
        "\n",
        "References:\n",
        "- Chapter 5: Getting Started with Pandas"
      ]
    },
    {
      "cell_type": "code",
      "metadata": {
        "id": "MudVJpGcyZP3"
      },
      "source": [
        "import numpy as np\n",
        "import pandas as pd"
      ],
      "execution_count": null,
      "outputs": []
    },
    {
      "cell_type": "markdown",
      "metadata": {
        "id": "dSCA-gTByZbC"
      },
      "source": [
        "Pandas provides two data types that extend numpy arrays:\n",
        "- **Data Series**: extending 1D array, used to represent a single feature\n",
        "- **Data Frame**: extending 2D array, used to represent a data table\n",
        "\n",
        "We will focus on data frames today, as most data sets are stored in table format."
      ]
    },
    {
      "cell_type": "code",
      "metadata": {
        "id": "M2EZce7MyZjJ"
      },
      "source": [
        "# Define a DataFrame from scratch\n",
        "df1 = pd.DataFrame(np.random.rand(5, 3),\n",
        "                   columns=['Feature1', 'Feature2', 'Feature3'])\n",
        "df1.head(5) # prints the first several rows"
      ],
      "execution_count": null,
      "outputs": []
    },
    {
      "cell_type": "code",
      "metadata": {
        "id": "qzmye7a2yZre"
      },
      "source": [
        "# Print the shape of the data frame\n",
        "print(df1.shape)"
      ],
      "execution_count": null,
      "outputs": []
    },
    {
      "cell_type": "code",
      "metadata": {
        "id": "dPrbjL4myZ03"
      },
      "source": [
        "# Row indices\n",
        "# print(df1.index)\n",
        "print(df1.index.values)"
      ],
      "execution_count": null,
      "outputs": []
    },
    {
      "cell_type": "code",
      "metadata": {
        "id": "-Cyd37JUyZ81"
      },
      "source": [
        "# Column indices\n",
        "print(df1.columns.values)"
      ],
      "execution_count": null,
      "outputs": []
    },
    {
      "cell_type": "code",
      "metadata": {
        "id": "CgRAqeEEyyx5"
      },
      "source": [
        "# Access elements using .loc[row_index, col_index]\n",
        "# Ex: Print the Feature1 value on the first row\n",
        "\n",
        "df1.loc[0, 'Feature1']"
      ],
      "execution_count": null,
      "outputs": []
    },
    {
      "cell_type": "code",
      "metadata": {
        "id": "YBkoS7rPy0GX"
      },
      "source": [
        "# Index slicing\n",
        "# Ex: Print the Feature2 value for the first 3 rows\n",
        "df2 = df1.loc[0:2, ['Feature2']] # the end index is actually inclusive\n",
        "df2"
      ],
      "execution_count": null,
      "outputs": []
    },
    {
      "cell_type": "code",
      "source": [
        "# Modifying df2 does not affect df1\n",
        "df2.loc[0, \"Feature2\"] = 12345\n",
        "df2"
      ],
      "metadata": {
        "id": "G8ZhvtsRoncI"
      },
      "execution_count": null,
      "outputs": []
    },
    {
      "cell_type": "markdown",
      "metadata": {
        "id": "A3LqZBuzpAe9"
      },
      "source": [
        "### Basic Table Operations\n",
        "- Change a value\n",
        "- Add a new row\n",
        "- Add a new column\n",
        "- Remove a row\n",
        "- Remove a column"
      ]
    },
    {
      "cell_type": "code",
      "metadata": {
        "id": "z0qY_KZBzK1L"
      },
      "source": [
        "# Example:\n",
        "data = [[60, 70, 80],\n",
        "        [66, 88, 77],\n",
        "        [100, 60, 30],\n",
        "        [85, 87, 83]]\n",
        "scores = pd.DataFrame(data,\n",
        "                      index=['Alice', 'Bob', 'Chris', 'David'],\n",
        "                      columns=['Quiz1', 'Quiz2', 'Final'])\n",
        "scores"
      ],
      "execution_count": null,
      "outputs": []
    },
    {
      "cell_type": "code",
      "metadata": {
        "id": "D1CjCu97zOsu"
      },
      "source": [
        "# Change Alice's final score to 90.\n",
        "\n",
        "scores.loc[\"Alice\", \"Final\"] = 90\n",
        "scores"
      ],
      "execution_count": null,
      "outputs": []
    },
    {
      "cell_type": "code",
      "metadata": {
        "id": "Iv3U65V6zO16"
      },
      "source": [
        "# Add a new row: \"Edward\": [77, 88, 99]\n",
        "scores.loc['Edward', :] = [77, 88, 99]\n",
        "scores"
      ],
      "execution_count": null,
      "outputs": []
    },
    {
      "cell_type": "code",
      "metadata": {
        "id": "UnL5eAnIzPFr"
      },
      "source": [
        "# Add a column \"ExtraCredit\"\n",
        "\n",
        "scores['ExtraCredit'] = [1, 2, 3, 4, 5] # the length must match with other columns\n",
        "scores"
      ],
      "execution_count": null,
      "outputs": []
    },
    {
      "cell_type": "code",
      "source": [
        "# A data frame with non-unique row indices\n",
        "df2 = pd.DataFrame(np.random.rand(5, 3),\n",
        "                   index=[0, 1, 1, 3, 4])\n",
        "df2"
      ],
      "metadata": {
        "id": "rlP7hB1MH6Oq"
      },
      "execution_count": null,
      "outputs": []
    },
    {
      "cell_type": "code",
      "metadata": {
        "id": "7wm74JkOzh--"
      },
      "source": [
        "# Remove the record of Chris\n",
        "\n",
        "scores.drop('Chris', inplace=True)\n",
        "# scores = scores.drop('Chris') # These two statements are equivalent\n",
        "scores"
      ],
      "execution_count": null,
      "outputs": []
    },
    {
      "cell_type": "code",
      "metadata": {
        "id": "KrOCa8BBzjQf"
      },
      "source": [
        "# Remove column \"ExtraCredit\"\n",
        "\n",
        "scores.drop('ExtraCredit', axis=1, inplace=True)\n",
        "scores"
      ],
      "execution_count": null,
      "outputs": []
    },
    {
      "cell_type": "code",
      "metadata": {
        "id": "mQVoZyrDzjYK"
      },
      "source": [
        "# Remove both David and Edward\n",
        "\n",
        "scores = scores.drop(['David', 'Edward'])\n",
        "scores"
      ],
      "execution_count": null,
      "outputs": []
    },
    {
      "cell_type": "markdown",
      "metadata": {
        "id": "zaYQWUO2pAjr"
      },
      "source": [
        "### Table Arithmetics\n",
        "- Perform an operation uniformly to all values in a column\n",
        "- Arithmetics with multiple columns\n",
        "- Calculate statistics\n",
        "- Apply a user-defined function to all rows"
      ]
    },
    {
      "cell_type": "code",
      "metadata": {
        "id": "NpaSKZpiz4RW"
      },
      "source": [
        "# Double the extra credits\n",
        "data = [[60, 70, 80],\n",
        "        [66, 88, 77],\n",
        "        [100, 60, 30],\n",
        "        [85, 87, 83]]\n",
        "scores = pd.DataFrame(data,\n",
        "                      index=['Alice', 'Bob', 'Chris', 'David'],\n",
        "                      columns=['Quiz1', 'Quiz2', 'Final'])\n",
        "scores['ExtraCredits'] = [1, 2, 3, 4]\n",
        "print(scores.ExtraCredits)\n",
        "scores\n",
        "\n",
        "\n",
        "scores.ExtraCredits = scores.ExtraCredits * 2\n",
        "scores"
      ],
      "execution_count": null,
      "outputs": []
    },
    {
      "cell_type": "code",
      "metadata": {
        "id": "s82byrC3z4aX"
      },
      "source": [
        "# Calculate grades:\n",
        "#   Grades = Quiz1 * 25% + Quiz2 * 25% + Final * 50% + ExtraCredit\n",
        "\n",
        "scores['Grade'] = scores['Quiz1'] * 0.25 + scores.Quiz2 * 0.25 + scores.Final * 0.5 \\\n",
        "                    + scores.ExtraCredits\n",
        "scores"
      ],
      "execution_count": null,
      "outputs": []
    },
    {
      "cell_type": "code",
      "metadata": {
        "id": "RO1c-v-qz4iG"
      },
      "source": [
        "# Calculate the min, max, mean, median, variance, and std of the final grades\n",
        "\n",
        "scores['Grade'].max()\n",
        "scores['Grade'].describe()"
      ],
      "execution_count": null,
      "outputs": []
    },
    {
      "cell_type": "code",
      "metadata": {
        "id": "l483f6ybz4pY"
      },
      "source": [
        "# Ex: Define a function that determines whether the student passes the class.\n",
        "def is_passing(grade):\n",
        "    return (grade >= 60)\n",
        "\n",
        "\n",
        "# Apply the function to the final grade column\n",
        "scores['Passed?'] = scores['Grade'].apply(is_passing)\n",
        "scores\n"
      ],
      "execution_count": null,
      "outputs": []
    },
    {
      "cell_type": "code",
      "source": [
        "# We can define the function using lambda expression\n",
        "scores['Passed?'] = scores['Grade'].apply(lambda x:(x >= 60))\n",
        "scores"
      ],
      "metadata": {
        "id": "AH2iuPzJ-nr2"
      },
      "execution_count": null,
      "outputs": []
    },
    {
      "cell_type": "code",
      "metadata": {
        "id": "K5XJh7lSx-Jt"
      },
      "source": [
        "def is_passing2(row):\n",
        "    return (row['Grade'] >= 60)\n",
        "\n",
        "scores.apply(is_passing2, axis=1)"
      ],
      "execution_count": null,
      "outputs": []
    },
    {
      "cell_type": "markdown",
      "metadata": {
        "id": "86Mu7zKi1Fxb"
      },
      "source": [
        "## Plotting Tools\n",
        "\n",
        "Making informative visualizations of data is one of the most important tasks in data analysis.\n",
        "- Learn the distribution of data\n",
        "- Explore trends and patterns in data\n",
        "- Identify outliers\n",
        "- Generate ideas for modeling\n",
        "- Present your findings\n",
        "\n",
        "Today, we will study how to create several most frequently-used types of plots in Python.\n",
        "- Scatter plots\n",
        "- Bar plots\n",
        "- Histograms\n",
        "- Pie plots\n",
        "\n",
        "Reference:\n",
        "- Python for Data Analysis, Chapter 9"
      ]
    },
    {
      "cell_type": "code",
      "metadata": {
        "id": "owsT5_G01Lv0"
      },
      "source": [
        "import numpy as np\n",
        "import pandas as pd\n",
        "import matplotlib.pyplot as plt\n",
        "%matplotlib inline"
      ],
      "execution_count": null,
      "outputs": []
    },
    {
      "cell_type": "markdown",
      "metadata": {
        "id": "rwwgaoFd1Wmr"
      },
      "source": [
        "A **scatter plot** uses dots to represent values for two numerical variables. The position of each dot represents an instance of data. Scatter plots are helpful for identifying relationships between variables."
      ]
    },
    {
      "cell_type": "code",
      "metadata": {
        "id": "3C8JlNVg1Lyh"
      },
      "source": [
        "# A simple example of scatter plots\n",
        "# Source: https://www.who.int/growthref/hfa_boys_5_19years_z.pdf?ua=1\n",
        "heights_boys = pd.DataFrame({'Age': range(5, 20),\n",
        "                   'Height': [110, 116, 122, 127, 133, 137, 143, 149, 156, 163, 169, 173, 175, 176, 176.5]})\n",
        "heights_boys"
      ],
      "execution_count": null,
      "outputs": []
    },
    {
      "cell_type": "code",
      "metadata": {
        "id": "eEQcBT581L1G"
      },
      "source": [
        "# Plot Age vs. Heights\n",
        "plt.plot(heights_boys['Age'], heights_boys['Height'])"
      ],
      "execution_count": null,
      "outputs": []
    },
    {
      "cell_type": "code",
      "metadata": {
        "id": "Ab5997Hs1L35"
      },
      "source": [
        "# Add descriptions to the figure\n",
        "plt.plot(heights_boys['Age'], heights_boys['Height'], 'r.') # r means red color, . means using a dot for each point\n",
        "plt.title(\"Average Height for Boys\")\n",
        "plt.xlabel(\"Age\")\n",
        "plt.ylabel(\"Height (cm)\")"
      ],
      "execution_count": null,
      "outputs": []
    },
    {
      "cell_type": "code",
      "metadata": {
        "id": "SIhln6Q91L6K"
      },
      "source": [
        "# Multiple sequences of data\n",
        "heights = pd.DataFrame({'Age': range(5, 20),\n",
        "                        'BoyHeight': [110, 116, 122, 127, 133, 137, 143, 149, 156, 163, 169, 173, 175, 176, 176.5],\n",
        "                        'GirlHeight': [109.6, 115, 121, 126.5, 132.5, 139, 145, 151, 156, 160, 161.7, 162.5, 162.8, 163, 163.2]})\n",
        "heights"
      ],
      "execution_count": null,
      "outputs": []
    },
    {
      "cell_type": "code",
      "metadata": {
        "id": "YZiiG4iw1L9F"
      },
      "source": [
        "plt.figure(figsize=(8, 5))\n",
        "plt.plot(heights['Age'], heights['BoyHeight'], 'r^', label=\"Boys\")\n",
        "plt.plot(heights['Age'], heights['GirlHeight'], 'gs', label='Girls')\n",
        "plt.title(\"Average Heights\")\n",
        "plt.xlabel(\"Age\")\n",
        "plt.ylabel(\"Height (cm)\")\n",
        "plt.legend()"
      ],
      "execution_count": null,
      "outputs": []
    },
    {
      "cell_type": "markdown",
      "metadata": {
        "id": "AMW8PE5j1taX"
      },
      "source": [
        "**Bar plots** are useful for presenting labeled data."
      ]
    },
    {
      "cell_type": "code",
      "metadata": {
        "id": "x_72YLxz1MAH"
      },
      "source": [
        "df = pd.DataFrame([[67, 76],\n",
        "                   [78, 87],\n",
        "                   [89, 98],\n",
        "                   [90, 95]],\n",
        "                  index=['Alice', 'Bob', 'Clare', 'David'],\n",
        "                  columns=['Midterm', 'Final'])\n",
        "df"
      ],
      "execution_count": null,
      "outputs": []
    },
    {
      "cell_type": "code",
      "metadata": {
        "id": "-TPK11cg1ylV"
      },
      "source": [
        "df['Midterm'].plot.bar(color='r', figsize=(10, 6))"
      ],
      "execution_count": null,
      "outputs": []
    },
    {
      "cell_type": "code",
      "source": [
        "df[['Midterm']] # Put the column in a list will make the result a data frame."
      ],
      "metadata": {
        "id": "megeKyAjtOKI"
      },
      "execution_count": null,
      "outputs": []
    },
    {
      "cell_type": "code",
      "metadata": {
        "id": "mOa-qZtj1yb3"
      },
      "source": [
        "df[['Midterm', 'Final']].plot.bar()"
      ],
      "execution_count": null,
      "outputs": []
    },
    {
      "cell_type": "code",
      "metadata": {
        "id": "N-X2jAtJ1yRr"
      },
      "source": [
        "df[['Midterm', 'Final']].plot.bar(stacked=True)"
      ],
      "execution_count": null,
      "outputs": []
    },
    {
      "cell_type": "code",
      "metadata": {
        "id": "gMIuAch81x99"
      },
      "source": [
        "df[['Midterm', 'Final']].plot.barh(stacked=True)"
      ],
      "execution_count": null,
      "outputs": []
    },
    {
      "cell_type": "markdown",
      "metadata": {
        "id": "277kxj312CBn"
      },
      "source": [
        "**Histograms** are useful for showing the distribution of a variable\n",
        "- Each bar cover a range of values.\n",
        "- The height of each bar represents the number of data in the corresponding range.\n",
        "- Boundary values are counted towards the left bar by convention."
      ]
    },
    {
      "cell_type": "code",
      "metadata": {
        "id": "tT6E20wI2B49"
      },
      "source": [
        "# Generate 100 values using np.random.rand()\n",
        "# df = pd.DataFrame(np.random.rand(10000), columns=['Rand'])\n",
        "df = pd.DataFrame(np.random.randn(10000), columns=['Rand'])\n",
        "df"
      ],
      "execution_count": null,
      "outputs": []
    },
    {
      "cell_type": "code",
      "metadata": {
        "id": "rnnbQF4n2Bvd"
      },
      "source": [
        "df['Rand'].hist(bins=50)"
      ],
      "execution_count": null,
      "outputs": []
    },
    {
      "cell_type": "markdown",
      "metadata": {
        "id": "reIgu5NW2Khl"
      },
      "source": [
        "**Pie Plots** are useful for showing the proportion of values."
      ]
    },
    {
      "cell_type": "code",
      "metadata": {
        "id": "7TdPJhTa2KZw"
      },
      "source": [
        "df = pd.DataFrame([5, 10, 20, 7, 3],\n",
        "                  index=['A', 'B', 'C', 'D', 'F'],\n",
        "                  columns=['Students'])\n",
        "df"
      ],
      "execution_count": null,
      "outputs": []
    },
    {
      "cell_type": "code",
      "metadata": {
        "id": "Zrg4MS-w2KRs"
      },
      "source": [
        "df['Students'].plot.pie(autopct='%.2f', figsize=(6, 6))\n",
        "plt.title(\"Grade Distribution\")"
      ],
      "execution_count": null,
      "outputs": []
    }
  ]
}